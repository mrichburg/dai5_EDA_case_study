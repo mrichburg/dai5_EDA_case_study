{
 "cells": [
  {
   "cell_type": "code",
   "execution_count": null,
   "metadata": {},
   "outputs": [],
   "source": [
    "import pandas as pd"
   ]
  },
  {
   "cell_type": "code",
   "execution_count": null,
   "metadata": {},
   "outputs": [],
   "source": [
    "#read csv into data frame fucntion\n",
    "def read_a_csv(file_path, df_name):\n",
    "    \"\"\"\n",
    "    Read a CSV file and return a DataFrame.\n",
    "\n",
    "    Args:\n",
    "        file_path (str): Path to the CSV file.\n",
    "        df_name (str): Variable name for the DataFrame.\n",
    "\n",
    "    Returns:\n",
    "        pandas.DataFrame: DataFrame containing the CSV data.\n",
    "    \"\"\"\n",
    "    try:\n",
    "        df_name = pd.read_csv(file_path)\n",
    "        return df_name\n",
    "    except FileNotFoundError:\n",
    "        print(\"Error: File not found.\")\n",
    "        return None"
   ]
  },
  {
   "cell_type": "code",
   "execution_count": null,
   "metadata": {},
   "outputs": [],
   "source": [
    "#describe the dataframe \n",
    "\n",
    "def describe_dataframe(df):\n",
    "    \"\"\"\n",
    "    Generate descriptive statistics for each numerical column in a Pandas DataFrame.\n",
    "\n",
    "    Args:\n",
    "        data (pandas.DataFrame): DataFrame for which to generate descriptive statistics.\n",
    "\n",
    "    Returns:\n",
    "        pandas.DataFrame: DataFrame containing descriptive statistics.\n",
    "    \"\"\"\n",
    "    output = df.describe()\n",
    "    return output"
   ]
  },
  {
   "cell_type": "code",
   "execution_count": null,
   "metadata": {},
   "outputs": [],
   "source": [
    "#find missing data and give some common analytics on those values \n",
    "\n",
    "def find_missing_data(df):\n",
    "    \"\"\"\n",
    "    Find missing data in a Pandas DataFrame.\n",
    "\n",
    "    Args:\n",
    "        data (pandas.DataFrame): DataFrame to check for missing data.\n",
    "\n",
    "    Returns:\n",
    "        pandas.DataFrame: DataFrame summarizing missing data.\n",
    "    \"\"\"\n",
    "    #gets rid of all rows that start with \\n as they do not have any data\n",
    "    df = df[~df['video_id'].str.startswith(\"\\n\")]\n",
    "    \n",
    "    missing_v = df.isnull().sum()\n",
    "    missing_data = pd.DataFrame(missing_v, columns=['Missing or NA'])\n",
    "    missing_data = missing_data[missing_data['Missing Values'] > 0].sort_values(by='Missing Values', ascending=False)\n",
    "    return missing_data"
   ]
  },
  {
   "cell_type": "code",
   "execution_count": null,
   "metadata": {},
   "outputs": [],
   "source": [
    "#get column and show featuers(data type)\n",
    "\n",
    "def get_column_featuers(df):\n",
    "    \"\"\"provides column dict listing and data type for pandas dataframe\n",
    "\n",
    "    Args:\n",
    "        df (pandas.DataFrame): DataFrame for which to retrieve the features and data types.\n",
    "\n",
    "        \n",
    "    Returns:\n",
    "        dict: Dictionary containing column names as keys and their data types as values.\n",
    "    \"\"\"\n",
    "    feats = {}\n",
    "    for c in df.columns:\n",
    "        feats[c] = df[c].dtype \n",
    "    return feats"
   ]
  },
  {
   "cell_type": "code",
   "execution_count": null,
   "metadata": {},
   "outputs": [],
   "source": [
    "#gets rid of all rows that start with \\n as they do not have any data\n",
    "\n",
    "def get_rid_of_null(df):\n",
    "    \"\"\"gets rid of all rows that start with \\n as they do not have any data\n",
    "\n",
    "    Args:\n",
    "        df (pandas.DataFrame): DataFrame\n",
    "        \n",
    "    Returns:\n",
    "        pandas.DataFrame: DataFrame with rows removed that meet this critera\n",
    "        \n",
    "    \"\"\"\n",
    "    df = df[~df['video_id'].str.startswith(\"\\n\")]\n",
    "    return df"
   ]
  },
  {
   "cell_type": "code",
   "execution_count": null,
   "metadata": {},
   "outputs": [],
   "source": [
    "if __name__ == \"__main__\":"
   ]
  }
 ],
 "metadata": {
  "language_info": {
   "name": "python"
  },
  "orig_nbformat": 4
 },
 "nbformat": 4,
 "nbformat_minor": 2
}
