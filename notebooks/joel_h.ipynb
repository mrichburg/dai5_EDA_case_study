{
 "cells": [
  {
   "cell_type": "code",
   "execution_count": 282,
   "metadata": {},
   "outputs": [],
   "source": [
    "import pandas as pd\n",
    "import json\n",
    "from pandas import json_normalize"
   ]
  },
  {
   "cell_type": "code",
   "execution_count": 293,
   "metadata": {},
   "outputs": [],
   "source": [
    "import pandas as pd\n",
    "import json\n",
    "from pandas.io.json import json_normalize\n",
    "\n",
    "def read_file(file_path):\n",
    "    \"\"\"\n",
    "    Read a file and return a DataFrame based on the file extension.\n",
    "\n",
    "    Args:\n",
    "        file_path (str): Path to the file.\n",
    "\n",
    "    Returns:\n",
    "        pandas.DataFrame: DataFrame containing the file data.\n",
    "    \"\"\"\n",
    "    if file_path.endswith('.json'):\n",
    "        with open(file_path) as f:\n",
    "            d = json.load(f)\n",
    "        return json_normalize(d['items'])\n",
    "    elif file_path.endswith('.csv'):\n",
    "        return pd.read_csv(file_path)\n",
    "    else:\n",
    "        print(\"Error: Invalid file extension.\")\n",
    "        return None\n",
    "\n",
    "#example json_file_path = 'path/to/file.json'\n",
    "#example json_df = read_file(json_file_path)"
   ]
  },
  {
   "cell_type": "code",
   "execution_count": 284,
   "metadata": {},
   "outputs": [],
   "source": [
    "#describe the dataframe \n",
    "\n",
    "def describe_dataframe(df):\n",
    "    \"\"\"\n",
    "    Generate descriptive statistics for each numerical column in a Pandas DataFrame.\n",
    "\n",
    "    Args:\n",
    "        data (pandas.DataFrame): DataFrame for which to generate descriptive statistics.\n",
    "\n",
    "    Returns:\n",
    "        pandas.DataFrame: DataFrame containing descriptive statistics.\n",
    "    \"\"\"\n",
    "    output = df.describe()\n",
    "    return output"
   ]
  },
  {
   "cell_type": "code",
   "execution_count": 286,
   "metadata": {},
   "outputs": [],
   "source": [
    "#get column and show featuers(data type)\n",
    "\n",
    "def get_column_featuers(df):\n",
    "    \"\"\"provides column dict listing and data type for pandas dataframe\n",
    "\n",
    "    Args:\n",
    "        df (pandas.DataFrame): DataFrame for which to retrieve the features and data types.\n",
    "\n",
    "        \n",
    "    Returns:\n",
    "        dict: Dictionary containing column names as keys and their data types as values.\n",
    "    \"\"\"\n",
    "    feats = {}\n",
    "    for c in df.columns:\n",
    "        feats[c] = df[c].dtype \n",
    "    return feats"
   ]
  },
  {
   "cell_type": "code",
   "execution_count": 287,
   "metadata": {},
   "outputs": [],
   "source": [
    "#gets rid of all rows that start with \\n as they do not have any data\n",
    "\n",
    "def get_rid_of_null(df):\n",
    "    \"\"\"gets rid of all rows that start with \\n as they do not have any data\n",
    "\n",
    "    Args:\n",
    "        df (pandas.DataFrame): DataFrame\n",
    "        \n",
    "    Returns:\n",
    "        pandas.DataFrame: DataFrame with rows removed that meet this critera\n",
    "        \n",
    "    \"\"\"\n",
    "    df = df[~df['video_id'].str.startswith(\"\\n\")]\n",
    "    return df"
   ]
  },
  {
   "cell_type": "code",
   "execution_count": 288,
   "metadata": {},
   "outputs": [
    {
     "ename": "IndentationError",
     "evalue": "expected an indented block (1054539742.py, line 1)",
     "output_type": "error",
     "traceback": [
      "\u001b[0;36m  File \u001b[0;32m\"/tmp/ipykernel_4573/1054539742.py\"\u001b[0;36m, line \u001b[0;32m1\u001b[0m\n\u001b[0;31m    if __name__ == \"__main__\":\u001b[0m\n\u001b[0m                              ^\u001b[0m\n\u001b[0;31mIndentationError\u001b[0m\u001b[0;31m:\u001b[0m expected an indented block\n"
     ]
    }
   ],
   "source": [
    "if __name__ == \"__main__\":"
   ]
  }
 ],
 "metadata": {
  "kernelspec": {
   "display_name": "Python 3 (ipykernel)",
   "language": "python",
   "name": "python3"
  },
  "language_info": {
   "codemirror_mode": {
    "name": "ipython",
    "version": 3
   },
   "file_extension": ".py",
   "mimetype": "text/x-python",
   "name": "python",
   "nbconvert_exporter": "python",
   "pygments_lexer": "ipython3",
   "version": "3.9.13"
  },
  "orig_nbformat": 4
 },
 "nbformat": 4,
 "nbformat_minor": 2
}
